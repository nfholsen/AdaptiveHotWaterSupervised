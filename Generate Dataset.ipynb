{
 "cells": [
  {
   "cell_type": "markdown",
   "metadata": {},
   "source": [
    "## Generate Datasets "
   ]
  },
  {
   "cell_type": "markdown",
   "metadata": {},
   "source": [
    "**Description of the notebook :**\n",
    "\n",
    "In this notebook, The function to create and save the features and the target values will be provided. In the `helpers.py` file one can find all the functions generate the features and the target values. The houses with patterns (6,40,59,72,87) and a house with no significant pattern (60) will be analysed. Respectively they correspond to the house number 1,2,3,4,5 and 6 in the paper.\n",
    "\n",
    "The list of features modeled are : \n",
    "- 'EHW_1W' : Consumption at the same time the week before [L/h] \n",
    "- 'EHW_1D' : Consumption at the same time the day before [L/h] \n",
    "- 'EHW_12H' : Consumption 12 hours before [L/h] \n",
    "- 'EHW_2H' : Consumption 2 hours before [L/h] \n",
    "- 'EHW_1H' : Consumption 1 hour before [L/h] \n",
    "- 'WORKDAY' : 1 if the day is a workday, otherwise 0\n",
    "- 'HOLIDAYS' :  1 if the day is a holiday, otherwise 0\n",
    "- 'DAY0' : 1 if the day is weekday 0 otherwise 0\n",
    "- 'DAY1' : 1 if the day is weekday 1 otherwise 0\n",
    "- 'DAY2' : 1 if the day is weekday 2 otherwise 0\n",
    "- 'DAY3' : 1 if the day is weekday 3 otherwise 0\n",
    "- 'DAY4' : 1 if the day is weekday 4 otherwise 0\n",
    "- 'DAY5' : 1 if the day is weekday 5 or 6 otherwise 0\n",
    "- 'HOURLY_ROLLING_MEAN' : moving average of the consumption for that specific hour [L/h] \n",
    "- 'DAILY_HOURLY_ROLLING_MEAN' : moving average of the consumption for that specific hour of the day [L/h] \n",
    "- 'IS_CONSUMPTION_LAST24' : 1 if consumption during the past 24 hours otherwise 0\n",
    "- 'IS_CONSUMPTION_LAST12H' : 1 if consumption during the past 12 hours otherwise 0\n",
    "\n",
    "Target values : \n",
    "- Demand [L/h] \n",
    "- Binary value if there is consumption or not (0,1)\n",
    "- Class of the EWH consumption (0,1,2) based on the percentage or the quantile\n",
    "\n",
    "The features and target will be generated for the dataset and they are not splitted between train/test set yet."
   ]
  },
  {
   "cell_type": "markdown",
   "metadata": {},
   "source": [
    "Import the useful libraries : "
   ]
  },
  {
   "cell_type": "code",
   "execution_count": 1,
   "metadata": {},
   "outputs": [],
   "source": [
    "import pandas as pd\n",
    "import matplotlib.pyplot as plt\n",
    "import numpy as np\n",
    "\n",
    "from helpers import *"
   ]
  },
  {
   "cell_type": "code",
   "execution_count": 1,
   "metadata": {},
   "outputs": [],
   "source": [
    "def export_to_csv(house_number):\n",
    "    \"\"\"\n",
    "    Function to export all the features and the target values for one specific house. \n",
    "    The EWHDataset file containing all the data must be placed in the same folder.\n",
    "    \n",
    "    Inputs :\n",
    "        - house_number (int) between 1 and 98\n",
    "    Outputs : \n",
    "        - Two csv files stored in the Data folder under the name house_{house_number}_Features.csv and house_{house_number}_Target.csv\n",
    "    \"\"\"\n",
    "    df = pd.read_csv('EWHDataset.csv',index_col =0)\n",
    "    \n",
    "    df.index = pd.to_datetime(df.index)\n",
    "    df['month'] = df.index.month\n",
    "    df['weekday'] = df.index.dayofweek\n",
    "    df['hour'] = df.index.hour\n",
    "    \n",
    "    df['workday'] = (df['weekday']<5).astype(int)\n",
    "    \n",
    "    df['holidays'] = 0\n",
    "    df.loc['2017-09-30':'2017-10-08','holidays'] = 1\n",
    "    df.loc['2017-12-07':'2018-01-16','holidays'] = 1\n",
    "    df.loc['2018-03-29':'2018-04-09','holidays'] = 1\n",
    "    df.loc['2017-09-24':'2017-09-25','holidays'] = 1\n",
    "    df.loc['2018-03-21','holidays'] = 1\n",
    "    \n",
    "    df = pd.concat([df, pd.get_dummies(df['weekday'],prefix='day')],axis=1)\n",
    "        \n",
    "    X, Y, features = prepare_dataset(df,house_number)\n",
    "    \n",
    "    Features = pd.DataFrame(data=X,columns=features,index=df.index[7*24:])\n",
    "    \n",
    "    Target = pd.concat([pd.Series(Y,index=df.index[7*24:]),\n",
    "          pd.Series(binary_consumption(df,house_number)[7*24:].values,index=df.index[7*24:]),\n",
    "          pd.Series(prepare_output(df,house_number,method='percentage')[7*24:],index=df.index[7*24:]),\n",
    "          pd.Series(prepare_output(df,house_number,method='quantile')[7*24:],index=df.index[7*24:])],axis=1)\n",
    "    \n",
    "    Target.columns = ['Demand','Binary_Consumption','Percentage_Consumption','Quantile_Consumption']\n",
    "\n",
    "    Features.to_csv(f'Data/house_{house_number}_Features.csv')\n",
    "    Target.to_csv(f'Data/house_{house_number}_Target.csv')"
   ]
  },
  {
   "cell_type": "markdown",
   "metadata": {},
   "source": [
    "**Prepare Dataset house 6**"
   ]
  },
  {
   "cell_type": "code",
   "execution_count": 3,
   "metadata": {},
   "outputs": [],
   "source": [
    "export_to_csv(6)"
   ]
  },
  {
   "cell_type": "markdown",
   "metadata": {},
   "source": [
    "**Prepare Dataset house 40**"
   ]
  },
  {
   "cell_type": "code",
   "execution_count": 4,
   "metadata": {},
   "outputs": [],
   "source": [
    "export_to_csv(40)"
   ]
  },
  {
   "cell_type": "markdown",
   "metadata": {},
   "source": [
    "**Prepare Dataset house 59**"
   ]
  },
  {
   "cell_type": "code",
   "execution_count": 5,
   "metadata": {},
   "outputs": [],
   "source": [
    "export_to_csv(59)"
   ]
  },
  {
   "cell_type": "markdown",
   "metadata": {},
   "source": [
    "**Prepare Dataset house 72**"
   ]
  },
  {
   "cell_type": "code",
   "execution_count": 6,
   "metadata": {},
   "outputs": [],
   "source": [
    "export_to_csv(72)"
   ]
  },
  {
   "cell_type": "markdown",
   "metadata": {},
   "source": [
    "**Prepare Dataset house 87**"
   ]
  },
  {
   "cell_type": "code",
   "execution_count": 7,
   "metadata": {},
   "outputs": [],
   "source": [
    "export_to_csv(87)"
   ]
  },
  {
   "cell_type": "markdown",
   "metadata": {},
   "source": [
    "**Prepare Dataset house 60**"
   ]
  },
  {
   "cell_type": "code",
   "execution_count": 8,
   "metadata": {},
   "outputs": [],
   "source": [
    "export_to_csv(60)"
   ]
  }
 ],
 "metadata": {
  "kernelspec": {
   "display_name": "Python 3",
   "language": "python",
   "name": "python3"
  },
  "language_info": {
   "codemirror_mode": {
    "name": "ipython",
    "version": 3
   },
   "file_extension": ".py",
   "mimetype": "text/x-python",
   "name": "python",
   "nbconvert_exporter": "python",
   "pygments_lexer": "ipython3",
   "version": "3.7.3"
  }
 },
 "nbformat": 4,
 "nbformat_minor": 2
}
