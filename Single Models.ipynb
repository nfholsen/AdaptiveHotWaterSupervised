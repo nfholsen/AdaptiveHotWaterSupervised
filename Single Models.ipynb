{
 "cells": [
  {
   "cell_type": "markdown",
   "metadata": {},
   "source": [
    "## Single Models\n",
    "\n",
    "Description : \n",
    "\n",
    "This notebook contains final version of all the final used in the paper. The list of models tested are : \n",
    "- Lasso\n",
    "- Random Forest \n",
    "- MLP\n",
    "- LSTM"
   ]
  },
  {
   "cell_type": "code",
   "execution_count": 172,
   "metadata": {},
   "outputs": [],
   "source": [
    "import numpy as np\n",
    "import pandas as pd\n",
    "import matplotlib.pyplot as plt\n",
    "import seaborn as sns\n",
    "\n",
    "from sklearn.linear_model import Lasso\n",
    "from sklearn.metrics import mean_squared_error\n",
    "from sklearn.ensemble import RandomForestRegressor\n",
    "\n",
    "# Seed for reproductibility\n",
    "SEED = 123\n",
    "\n",
    "import numpy.random\n",
    "np.random.seed(SEED)\n",
    "\n",
    "import random\n",
    "random.seed(SEED)\n",
    "\n",
    "# Remove warnings\n",
    "import warnings\n",
    "warnings.filterwarnings(\"ignore\")"
   ]
  },
  {
   "cell_type": "code",
   "execution_count": 5,
   "metadata": {},
   "outputs": [],
   "source": [
    "houses = [6,40,59,72,87,60] # ID of house selected in the EWHDataset.csv file, respectively called 1-6 in the paper"
   ]
  },
  {
   "cell_type": "code",
   "execution_count": 162,
   "metadata": {},
   "outputs": [],
   "source": [
    "# Train Test Split\n",
    "\n",
    "def TrainTest(house_number,output='Demand'):\n",
    "    \"\"\"\n",
    "    output is either Demand, Binary_Consumption, Percentage_Consumption or Quantile_Consumption\n",
    "    \"\"\"\n",
    "    X = pd.read_csv(f'Data/house_{house_number}_Features.csv',index_col=0)\n",
    "    y = pd.read_csv(f'Data/house_{house_number}_Target.csv',index_col=0)\n",
    "    X.index=pd.to_datetime(X.index)\n",
    "    y.index=pd.to_datetime(y.index)\n",
    "    \n",
    "    X_train = X.loc[:'2018-02']\n",
    "    X_test = X.loc['2018-03':]\n",
    "    \n",
    "    y_train = y.loc[:'2018-02',[output]]\n",
    "    y_test = y.loc['2018-03':,[output]]\n",
    "        \n",
    "    return X_train,y_train,X_test,y_test"
   ]
  },
  {
   "cell_type": "markdown",
   "metadata": {},
   "source": [
    "### Lasso"
   ]
  },
  {
   "cell_type": "code",
   "execution_count": 163,
   "metadata": {},
   "outputs": [],
   "source": [
    "# Parameters\n",
    "alpha = 0.01"
   ]
  },
  {
   "cell_type": "code",
   "execution_count": 164,
   "metadata": {},
   "outputs": [
    {
     "name": "stdout",
     "output_type": "stream",
     "text": [
      "------------------------------\n",
      "House 6 - id 1\n",
      "------------------------------\n",
      "\tR : 0.6526682265335282\n",
      "\tRMSE : 6.813566514596529\n",
      "\n",
      "------------------------------\n",
      "House 40 - id 2\n",
      "------------------------------\n",
      "\tR : 0.5323713520841594\n",
      "\tRMSE : 9.913585114669061\n",
      "\n",
      "------------------------------\n",
      "House 59 - id 3\n",
      "------------------------------\n",
      "\tR : 0.5921777081794859\n",
      "\tRMSE : 16.59869403987528\n",
      "\n",
      "------------------------------\n",
      "House 72 - id 4\n",
      "------------------------------\n",
      "\tR : 0.6508593506672528\n",
      "\tRMSE : 15.39163303390047\n",
      "\n",
      "------------------------------\n",
      "House 87 - id 5\n",
      "------------------------------\n",
      "\tR : 0.580348782514308\n",
      "\tRMSE : 10.052256647326004\n",
      "\n",
      "------------------------------\n",
      "House 60 - id 6\n",
      "------------------------------\n",
      "\tR : 0.202894105038354\n",
      "\tRMSE : 2.360875129953985\n",
      "\n"
     ]
    }
   ],
   "source": [
    "for idx, house in enumerate(houses):\n",
    "    \n",
    "    X_train,y_train,X_test,y_test = TrainTest(house,output='Demand')\n",
    "\n",
    "    reg = Lasso(alpha=alpha,random_state=SEED)\n",
    "\n",
    "    reg.fit(X_train,y_train)\n",
    "\n",
    "    y_preds = reg.predict(X_test)\n",
    "    y_preds[y_preds<0] = 0\n",
    "    \n",
    "    # R-coef\n",
    "    R_coef = np.corrcoef(y_test.values.reshape(-1),\n",
    "            y_preds)[1,0]\n",
    "    \n",
    "    # RMSE\n",
    "    RMSE = np.sqrt(mean_squared_error(y_test.values.reshape(-1),\n",
    "                           y_preds))\n",
    "    print(30*'-')\n",
    "    print(f'House {house} - id {idx+1}')\n",
    "    print(30*'-')\n",
    "    print(f'\\tR : {R_coef}')\n",
    "    print(f'\\tRMSE : {RMSE}')\n",
    "    print()"
   ]
  },
  {
   "cell_type": "markdown",
   "metadata": {},
   "source": [
    "### Random Forest"
   ]
  },
  {
   "cell_type": "code",
   "execution_count": 166,
   "metadata": {
    "scrolled": false
   },
   "outputs": [
    {
     "name": "stdout",
     "output_type": "stream",
     "text": [
      "------------------------------\n",
      "House 6 - id 1\n",
      "------------------------------\n",
      "\tR : 0.6678953088355168\n",
      "\tRMSE : 6.652424047311198\n",
      "\n",
      "------------------------------\n",
      "House 40 - id 2\n",
      "------------------------------\n",
      "\tR : 0.615884811571865\n",
      "\tRMSE : 9.1997517562241\n",
      "\n",
      "------------------------------\n",
      "House 59 - id 3\n",
      "------------------------------\n",
      "\tR : 0.6318793382747818\n",
      "\tRMSE : 15.890173008137804\n",
      "\n",
      "------------------------------\n",
      "House 72 - id 4\n",
      "------------------------------\n",
      "\tR : 0.7157153692955447\n",
      "\tRMSE : 14.080521157695205\n",
      "\n",
      "------------------------------\n",
      "House 87 - id 5\n",
      "------------------------------\n",
      "\tR : 0.5604796613588767\n",
      "\tRMSE : 10.22579114799964\n",
      "\n",
      "------------------------------\n",
      "House 60 - id 6\n",
      "------------------------------\n",
      "\tR : 0.22905152773738222\n",
      "\tRMSE : 2.382023945378234\n",
      "\n"
     ]
    }
   ],
   "source": [
    "for idx, house in enumerate(houses):\n",
    "    \n",
    "    X_train,y_train,X_test,y_test = TrainTest(house,output='Demand')\n",
    "\n",
    "    reg = RandomForestRegressor(n_estimators = 100, \n",
    "                            min_samples_split = 17,\n",
    "                            random_state=SEED)\n",
    "\n",
    "    reg.fit(X_train,y_train)\n",
    "\n",
    "    y_preds = reg.predict(X_test)\n",
    "    y_preds[y_preds<0] = 0\n",
    "    \n",
    "    # R-coef\n",
    "    R_coef = np.corrcoef(y_test.values.reshape(-1),\n",
    "            y_preds)[1,0]\n",
    "    \n",
    "    # RMSE\n",
    "    RMSE = np.sqrt(mean_squared_error(y_test.values.reshape(-1),\n",
    "                           y_preds))\n",
    "    print(30*'-')\n",
    "    print(f'House {house} - id {idx+1}')\n",
    "    print(30*'-')\n",
    "    print(f'\\tR : {R_coef}')\n",
    "    print(f'\\tRMSE : {RMSE}')\n",
    "    print()"
   ]
  },
  {
   "cell_type": "markdown",
   "metadata": {},
   "source": [
    "### MLP"
   ]
  },
  {
   "cell_type": "code",
   "execution_count": 167,
   "metadata": {},
   "outputs": [],
   "source": [
    "from tensorflow.keras.layers import Input, Dense, Dropout\n",
    "from tensorflow.keras.models import Model\n",
    "from tensorflow.keras.regularizers import l1_l2"
   ]
  },
  {
   "cell_type": "code",
   "execution_count": 168,
   "metadata": {},
   "outputs": [
    {
     "name": "stdout",
     "output_type": "stream",
     "text": [
      "------------------------------\n",
      "House 6 - id 1\n",
      "------------------------------\n",
      "\tR : 0.666243746086888\n",
      "\tRMSE : 6.667856030978653\n",
      "\n",
      "------------------------------\n",
      "House 40 - id 2\n",
      "------------------------------\n",
      "\tR : 0.5727945163029785\n",
      "\tRMSE : 9.562262509714623\n",
      "\n",
      "------------------------------\n",
      "House 59 - id 3\n",
      "------------------------------\n",
      "\tR : 0.6053267423618656\n",
      "\tRMSE : 16.330382014309954\n",
      "\n",
      "------------------------------\n",
      "House 72 - id 4\n",
      "------------------------------\n",
      "\tR : 0.6508354560804553\n",
      "\tRMSE : 15.462568361512782\n",
      "\n",
      "------------------------------\n",
      "House 87 - id 5\n",
      "------------------------------\n",
      "\tR : 0.5632112401975102\n",
      "\tRMSE : 10.233933150625175\n",
      "\n",
      "------------------------------\n",
      "House 60 - id 6\n",
      "------------------------------\n",
      "\tR : 0.09194483741102816\n",
      "\tRMSE : 2.4675084522490973\n",
      "\n"
     ]
    }
   ],
   "source": [
    "for idx, house in enumerate(houses):\n",
    "    \n",
    "    X_train,y_train,X_test,y_test = TrainTest(house,output='Demand')\n",
    "\n",
    "    # Define model\n",
    "    inputs = Input(shape=(19,))\n",
    "    \n",
    "    # a layer instance is callable on a tensor, and returns a tensor\n",
    "    x = Dense(64, activation='relu',kernel_regularizer=l1_l2(l1=1e-2, l2=1e-2))(inputs)\n",
    "    x = Dense(32, activation='relu',kernel_regularizer=l1_l2(l1=1e-2, l2=1e-2))(inputs)\n",
    "    regression = Dense(1, activation='relu')(x)\n",
    "    \n",
    "    model = Model(inputs=inputs, outputs=regression)\n",
    "    model.compile(optimizer='adam',\n",
    "                loss='mean_squared_error')\n",
    "    \n",
    "    # Train model \n",
    "    model.fit(X_train, y_train,epochs=256,verbose=False)\n",
    "    \n",
    "    # Predict Model\n",
    "    y_preds = model.predict(X_test)\n",
    "    \n",
    "    y_preds[y_preds<0] = 0\n",
    "        \n",
    "    # R-coef\n",
    "    R_coef = np.corrcoef(y_test.values.reshape(-1),\n",
    "                y_preds.reshape(-1))[1,0]\n",
    "        \n",
    "    # RMSE\n",
    "    RMSE = np.sqrt(mean_squared_error(y_test.values.reshape(-1),\n",
    "                               y_preds.reshape(-1)))\n",
    "    print(30*'-')\n",
    "    print(f'House {house} - id {idx+1}')\n",
    "    print(30*'-')\n",
    "    print(f'\\tR : {R_coef}')\n",
    "    print(f'\\tRMSE : {RMSE}')\n",
    "    print()"
   ]
  },
  {
   "cell_type": "markdown",
   "metadata": {},
   "source": [
    "### LSTM"
   ]
  },
  {
   "cell_type": "code",
   "execution_count": 169,
   "metadata": {},
   "outputs": [],
   "source": [
    "from tensorflow.keras.layers import LSTM"
   ]
  },
  {
   "cell_type": "code",
   "execution_count": 170,
   "metadata": {},
   "outputs": [
    {
     "name": "stdout",
     "output_type": "stream",
     "text": [
      "------------------------------\n",
      "House 6 - id 1\n",
      "------------------------------\n",
      "\tR : 0.11789905733197771\n",
      "\tRMSE : 10.823757805168027\n",
      "\n",
      "------------------------------\n",
      "House 40 - id 2\n",
      "------------------------------\n",
      "\tR : 0.1108259588247078\n",
      "\tRMSE : 12.865823202952276\n",
      "\n",
      "------------------------------\n",
      "House 59 - id 3\n",
      "------------------------------\n",
      "\tR : 0.04646389784268899\n",
      "\tRMSE : 22.314302180183557\n",
      "\n",
      "------------------------------\n",
      "House 72 - id 4\n",
      "------------------------------\n",
      "\tR : 0.10232236502326493\n",
      "\tRMSE : 21.31491985418901\n",
      "\n",
      "------------------------------\n",
      "House 87 - id 5\n",
      "------------------------------\n",
      "\tR : 0.09199223840363828\n",
      "\tRMSE : 12.971740681574332\n",
      "\n",
      "------------------------------\n",
      "House 60 - id 6\n",
      "------------------------------\n",
      "\tR : -0.019700369758182706\n",
      "\tRMSE : 2.581305327250367\n",
      "\n"
     ]
    }
   ],
   "source": [
    "for idx, house in enumerate(houses):\n",
    "    \n",
    "    X_train,y_train,X_test,y_test = TrainTest(house,output='Demand')\n",
    "    \n",
    "    n_steps = 1\n",
    "    n_features = X_train.shape[1]\n",
    "\n",
    "    # Define model\n",
    "    inputs = Input(shape = (n_steps, n_features),name = 'input')\n",
    "\n",
    "    x = LSTM(16, activation='relu', input_shape=(n_steps, n_features))(inputs)\n",
    "\n",
    "    output = (Dense(1, name = 'output',activation='relu'))(x)\n",
    "\n",
    "    model = Model(inputs = [inputs], outputs = output )\n",
    "    model.compile(optimizer='adam', loss='mean_squared_error')\n",
    "    \n",
    "    #model.summary()\n",
    "    \n",
    "    # Train model \n",
    "    model.fit(X_train.values.T.reshape(X_train.shape[0],1,X_train.shape[1]), y_train,epochs=64,verbose=False)\n",
    "        \n",
    "    # Predict Model\n",
    "    y_preds = model.predict(X_test.values.T.reshape(X_test.shape[0],1,X_test.shape[1]))\n",
    "    \n",
    "    y_preds[y_preds<0] = 0\n",
    "        \n",
    "    # R-coef\n",
    "    R_coef = np.corrcoef(y_test.values.reshape(-1),\n",
    "                y_preds.reshape(-1))[1,0]\n",
    "        \n",
    "    # RMSE\n",
    "    RMSE = np.sqrt(mean_squared_error(y_test.values.reshape(-1),\n",
    "                               y_preds.reshape(-1)))\n",
    "    print(30*'-')\n",
    "    print(f'House {house} - id {idx+1}')\n",
    "    print(30*'-')\n",
    "    print(f'\\tR : {R_coef}')\n",
    "    print(f'\\tRMSE : {RMSE}')\n",
    "    print()"
   ]
  },
  {
   "cell_type": "code",
   "execution_count": null,
   "metadata": {},
   "outputs": [],
   "source": []
  }
 ],
 "metadata": {
  "kernelspec": {
   "display_name": "Python 3",
   "language": "python",
   "name": "python3"
  },
  "language_info": {
   "codemirror_mode": {
    "name": "ipython",
    "version": 3
   },
   "file_extension": ".py",
   "mimetype": "text/x-python",
   "name": "python",
   "nbconvert_exporter": "python",
   "pygments_lexer": "ipython3",
   "version": "3.7.3"
  }
 },
 "nbformat": 4,
 "nbformat_minor": 4
}
