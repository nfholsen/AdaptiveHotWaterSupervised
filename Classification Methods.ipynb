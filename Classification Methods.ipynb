{
 "cells": [
  {
   "cell_type": "markdown",
   "metadata": {},
   "source": [
    "## Classification Methods\n",
    "\n",
    "Description : \n",
    "\n",
    "This notebook presents the classification methods used in the paper to classify either if there is a consumption (0,1) or the category of consumption (0,1,2) based on the percentage or quantile method."
   ]
  },
  {
   "cell_type": "code",
   "execution_count": 145,
   "metadata": {},
   "outputs": [],
   "source": [
    "import pandas as pd\n",
    "import numpy as np\n",
    "\n",
    "from helpers import * \n",
    "\n",
    "# Remove warnings\n",
    "import warnings\n",
    "warnings.filterwarnings(\"ignore\")"
   ]
  },
  {
   "cell_type": "markdown",
   "metadata": {},
   "source": [
    "### Table 5"
   ]
  },
  {
   "cell_type": "code",
   "execution_count": 146,
   "metadata": {},
   "outputs": [],
   "source": [
    "houses = [6,40,59,72,87,60] # ID of house selected in the EWHDataset.csv file, respectively called 1-6 in the paper"
   ]
  },
  {
   "cell_type": "markdown",
   "metadata": {},
   "source": [
    "#### Percentages"
   ]
  },
  {
   "cell_type": "code",
   "execution_count": 158,
   "metadata": {},
   "outputs": [
    {
     "name": "stdout",
     "output_type": "stream",
     "text": [
      "------------------------------\n",
      "House 6 - id 1\n",
      "------------------------------\n",
      "0    77.2\n",
      "1    15.1\n",
      "2     7.6\n",
      "Name: Percentage_Consumption, dtype: float64\n",
      "------------------------------\n",
      "House 40 - id 2\n",
      "------------------------------\n",
      "0    85.8\n",
      "2     7.9\n",
      "1     6.2\n",
      "Name: Percentage_Consumption, dtype: float64\n",
      "------------------------------\n",
      "House 59 - id 3\n",
      "------------------------------\n",
      "0    72.5\n",
      "1    21.7\n",
      "2     5.8\n",
      "Name: Percentage_Consumption, dtype: float64\n",
      "------------------------------\n",
      "House 72 - id 4\n",
      "------------------------------\n",
      "0    79.3\n",
      "1    14.2\n",
      "2     6.5\n",
      "Name: Percentage_Consumption, dtype: float64\n",
      "------------------------------\n",
      "House 87 - id 5\n",
      "------------------------------\n",
      "0    75.1\n",
      "1    16.5\n",
      "2     8.3\n",
      "Name: Percentage_Consumption, dtype: float64\n",
      "------------------------------\n",
      "House 60 - id 6\n",
      "------------------------------\n",
      "0    87.8\n",
      "2     6.8\n",
      "1     5.4\n",
      "Name: Percentage_Consumption, dtype: float64\n"
     ]
    }
   ],
   "source": [
    "for idx, house in enumerate(houses):\n",
    "    \n",
    "    y = pd.read_csv(f'Data/house_{house}_Target.csv',index_col=0)\n",
    "    y.index = pd.to_datetime(y.index)\n",
    "\n",
    "    y_test = y.loc['2018-03':]\n",
    "    \n",
    "    print(30*'-')\n",
    "    print(f'House {house} - id {idx+1}')\n",
    "    print(30*'-')\n",
    "\n",
    "    print(round(y_test['Percentage_Consumption'].value_counts()/y_test['Percentage_Consumption'].count(),3)*100)"
   ]
  },
  {
   "cell_type": "markdown",
   "metadata": {},
   "source": [
    "#### Quartiles"
   ]
  },
  {
   "cell_type": "code",
   "execution_count": 159,
   "metadata": {},
   "outputs": [
    {
     "name": "stdout",
     "output_type": "stream",
     "text": [
      "------------------------------\n",
      "House 6 - id 1\n",
      "------------------------------\n",
      "0    78.1\n",
      "1    17.1\n",
      "2     4.9\n",
      "Name: Quantile_Consumption, dtype: float64\n",
      "------------------------------\n",
      "House 40 - id 2\n",
      "------------------------------\n",
      "0    85.3\n",
      "1    10.3\n",
      "2     4.4\n",
      "Name: Quantile_Consumption, dtype: float64\n",
      "------------------------------\n",
      "House 59 - id 3\n",
      "------------------------------\n",
      "0    66.9\n",
      "1    22.8\n",
      "2    10.3\n",
      "Name: Quantile_Consumption, dtype: float64\n",
      "------------------------------\n",
      "House 72 - id 4\n",
      "------------------------------\n",
      "0    78.8\n",
      "1    14.4\n",
      "2     6.8\n",
      "Name: Quantile_Consumption, dtype: float64\n",
      "------------------------------\n",
      "House 87 - id 5\n",
      "------------------------------\n",
      "0    70.8\n",
      "1    18.9\n",
      "2    10.3\n",
      "Name: Quantile_Consumption, dtype: float64\n",
      "------------------------------\n",
      "House 60 - id 6\n",
      "------------------------------\n",
      "0    96.2\n",
      "1     2.4\n",
      "2     1.4\n",
      "Name: Quantile_Consumption, dtype: float64\n"
     ]
    }
   ],
   "source": [
    "for idx, house in enumerate(houses):\n",
    "    \n",
    "    y = pd.read_csv(f'Data/house_{house}_Target.csv',index_col=0)\n",
    "    y.index = pd.to_datetime(y.index)\n",
    "\n",
    "    y_test = y.loc['2018-03':]\n",
    "    \n",
    "    print(30*'-')\n",
    "    print(f'House {house} - id {idx+1}')\n",
    "    print(30*'-')\n",
    "\n",
    "    print(round(y_test['Quantile_Consumption'].value_counts()/y_test['Quantile_Consumption'].count(),3)*100)"
   ]
  },
  {
   "cell_type": "markdown",
   "metadata": {},
   "source": [
    "### Table 6"
   ]
  },
  {
   "cell_type": "code",
   "execution_count": 149,
   "metadata": {},
   "outputs": [],
   "source": [
    "def TrainTest(house_number,output='Demand'):\n",
    "    \"\"\"\n",
    "    output is either Demand, Binary_Consumption, Percentage_Consumption or Quantile_Consumption\n",
    "    \"\"\"\n",
    "    X = pd.read_csv(f'Data/house_{house_number}_Features.csv',index_col=0)\n",
    "    y = pd.read_csv(f'Data/house_{house_number}_Target.csv',index_col=0)\n",
    "    X.index=pd.to_datetime(X.index)\n",
    "    y.index=pd.to_datetime(y.index)\n",
    "    \n",
    "    X_train = X.loc[:'2018-02']\n",
    "    X_test = X.loc['2018-03':]\n",
    "    \n",
    "    y_train = y.loc[:'2018-02',[output]]\n",
    "    y_test = y.loc['2018-03':,[output]]\n",
    "        \n",
    "    return X_train,y_train,X_test,y_test"
   ]
  },
  {
   "cell_type": "markdown",
   "metadata": {},
   "source": [
    "#### Random Forest - Percentage"
   ]
  },
  {
   "cell_type": "code",
   "execution_count": 150,
   "metadata": {},
   "outputs": [],
   "source": [
    "from sklearn.ensemble import RandomForestClassifier\n",
    "from sklearn.metrics import f1_score\n",
    "\n",
    "SEED = 123"
   ]
  },
  {
   "cell_type": "code",
   "execution_count": 165,
   "metadata": {},
   "outputs": [
    {
     "name": "stdout",
     "output_type": "stream",
     "text": [
      "------------------------------\n",
      "House 6 - id 1\n",
      "------------------------------\n",
      "\tF1 Score : 0.48536761242617116\n",
      "\n",
      "------------------------------\n",
      "House 40 - id 2\n",
      "------------------------------\n",
      "\tF1 Score : 0.5280800390269212\n",
      "\n",
      "------------------------------\n",
      "House 59 - id 3\n",
      "------------------------------\n",
      "\tF1 Score : 0.6079345958129274\n",
      "\n",
      "------------------------------\n",
      "House 72 - id 4\n",
      "------------------------------\n",
      "\tF1 Score : 0.5936541085756498\n",
      "\n",
      "------------------------------\n",
      "House 87 - id 5\n",
      "------------------------------\n",
      "\tF1 Score : 0.5820836570836571\n",
      "\n",
      "------------------------------\n",
      "House 60 - id 6\n",
      "------------------------------\n",
      "\tF1 Score : 0.40767396446318904\n",
      "\n"
     ]
    }
   ],
   "source": [
    "for idx, house in enumerate(houses):\n",
    "    \n",
    "    X_train,y_train,X_test,y_test = TrainTest(house,output='Percentage_Consumption')\n",
    "\n",
    "    clf = RandomForestClassifier(n_estimators = 500, \n",
    "                            max_depth=9,\n",
    "                            random_state=SEED)\n",
    "\n",
    "    clf.fit(X_train,y_train)\n",
    "\n",
    "    y_preds = clf.predict(X_test)\n",
    "    \n",
    "    # R-coef\n",
    "    F1_score = f1_score(y_test,y_preds,average='macro')\n",
    "\n",
    "    print(30*'-')\n",
    "    print(f'House {house} - id {idx+1}')\n",
    "    print(30*'-')\n",
    "    print(f'\\tF1 Score : {F1_score}')\n",
    "    print()"
   ]
  },
  {
   "cell_type": "markdown",
   "metadata": {},
   "source": [
    "#### Random Forest - Quantile"
   ]
  },
  {
   "cell_type": "code",
   "execution_count": 166,
   "metadata": {},
   "outputs": [
    {
     "name": "stdout",
     "output_type": "stream",
     "text": [
      "------------------------------\n",
      "House 6 - id 1\n",
      "------------------------------\n",
      "\tF1 Score : 0.4685188108392529\n",
      "\n",
      "------------------------------\n",
      "House 40 - id 2\n",
      "------------------------------\n",
      "\tF1 Score : 0.30684657671164417\n",
      "\n",
      "------------------------------\n",
      "House 59 - id 3\n",
      "------------------------------\n",
      "\tF1 Score : 0.3172236101324564\n",
      "\n",
      "------------------------------\n",
      "House 72 - id 4\n",
      "------------------------------\n",
      "\tF1 Score : 0.43994432003873385\n",
      "\n",
      "------------------------------\n",
      "House 87 - id 5\n",
      "------------------------------\n",
      "\tF1 Score : 0.2764227642276423\n",
      "\n",
      "------------------------------\n",
      "House 60 - id 6\n",
      "------------------------------\n",
      "\tF1 Score : 0.326963906581741\n",
      "\n"
     ]
    }
   ],
   "source": [
    "for idx, house in enumerate(houses):\n",
    "    \n",
    "    X_train,y_train,X_test,y_test = TrainTest(house,output='Quantile_Consumption')\n",
    "\n",
    "    clf = RandomForestClassifier(n_estimators = 200, \n",
    "                            max_depth=2,\n",
    "                            random_state=SEED)\n",
    "\n",
    "    clf.fit(X_train,y_train)\n",
    "\n",
    "    y_preds = clf.predict(X_test)\n",
    "    \n",
    "    # F1_score\n",
    "    F1_score = f1_score(y_test,y_preds,average='macro')\n",
    "\n",
    "    print(30*'-')\n",
    "    print(f'House {house} - id {idx+1}')\n",
    "    print(30*'-')\n",
    "    print(f'\\tF1 Score : {F1_score}')\n",
    "    print()"
   ]
  },
  {
   "cell_type": "markdown",
   "metadata": {},
   "source": [
    "#### MLP - Percentage "
   ]
  },
  {
   "cell_type": "code",
   "execution_count": 170,
   "metadata": {},
   "outputs": [],
   "source": [
    "from tensorflow.keras.utils import to_categorical\n",
    "from tensorflow.keras.layers import Input, Dense\n",
    "from tensorflow.keras.models import Model"
   ]
  },
  {
   "cell_type": "code",
   "execution_count": 179,
   "metadata": {},
   "outputs": [
    {
     "name": "stdout",
     "output_type": "stream",
     "text": [
      "------------------------------\n",
      "House 6 - id 1\n",
      "------------------------------\n",
      "\tF1 Score : 0.5112978524743231\n",
      "\n",
      "------------------------------\n",
      "House 40 - id 2\n",
      "------------------------------\n",
      "\tF1 Score : 0.5684393406840322\n",
      "\n",
      "------------------------------\n",
      "House 59 - id 3\n",
      "------------------------------\n",
      "\tF1 Score : 0.6310943528084978\n",
      "\n",
      "------------------------------\n",
      "House 72 - id 4\n",
      "------------------------------\n",
      "\tF1 Score : 0.5489329689382585\n",
      "\n",
      "------------------------------\n",
      "House 87 - id 5\n",
      "------------------------------\n",
      "\tF1 Score : 0.5243652615531361\n",
      "\n",
      "------------------------------\n",
      "House 60 - id 6\n",
      "------------------------------\n",
      "\tF1 Score : 0.43666994573338985\n",
      "\n"
     ]
    }
   ],
   "source": [
    "for idx, house in enumerate(houses):\n",
    "    X_train,y_train,X_test,y_test = TrainTest(house,output='Percentage_Consumption')\n",
    "    \n",
    "    # Convert to one hot encodings\n",
    "    one_hot_y_train = to_categorical(y_train)\n",
    "    \n",
    "    # define model\n",
    "    inputs = Input(shape=(19,))\n",
    "\n",
    "    # a layer instance is callable on a tensor, and returns a tensor\n",
    "    x = Dense(16, activation='relu')(inputs)\n",
    "    x = Dense(32, activation='relu')(x)\n",
    "    predictions = Dense(3, activation='softmax')(x)\n",
    "    \n",
    "    # This creates a model that includes\n",
    "    # the Input layer and one Dense layer\n",
    "    model = Model(inputs=inputs, outputs=predictions)\n",
    "    model.compile(optimizer='adam',\n",
    "              loss='categorical_crossentropy',\n",
    "              metrics=['accuracy'])\n",
    "    \n",
    "    model.fit(X_train, one_hot_y_train,epochs=128,verbose=False)\n",
    "    \n",
    "    y_preds = np.argmax(model.predict(X_test),axis=1)\n",
    "    \n",
    "    # F1_score\n",
    "    F1_score = f1_score(y_test,y_preds,average='macro')\n",
    "\n",
    "    print(30*'-')\n",
    "    print(f'House {house} - id {idx+1}')\n",
    "    print(30*'-')\n",
    "    print(f'\\tF1 Score : {F1_score}')\n",
    "    print()"
   ]
  },
  {
   "cell_type": "markdown",
   "metadata": {},
   "source": [
    "#### MLP - Quantile "
   ]
  },
  {
   "cell_type": "code",
   "execution_count": 180,
   "metadata": {},
   "outputs": [
    {
     "name": "stdout",
     "output_type": "stream",
     "text": [
      "------------------------------\n",
      "House 6 - id 1\n",
      "------------------------------\n",
      "\tF1 Score : 0.6019032358515274\n",
      "\n",
      "------------------------------\n",
      "House 40 - id 2\n",
      "------------------------------\n",
      "\tF1 Score : 0.4950743636070381\n",
      "\n",
      "------------------------------\n",
      "House 59 - id 3\n",
      "------------------------------\n",
      "\tF1 Score : 0.6137904710680778\n",
      "\n",
      "------------------------------\n",
      "House 72 - id 4\n",
      "------------------------------\n",
      "\tF1 Score : 0.5710529353418589\n",
      "\n",
      "------------------------------\n",
      "House 87 - id 5\n",
      "------------------------------\n",
      "\tF1 Score : 0.5676908509430053\n",
      "\n",
      "------------------------------\n",
      "House 60 - id 6\n",
      "------------------------------\n",
      "\tF1 Score : 0.3267233238904627\n",
      "\n"
     ]
    }
   ],
   "source": [
    "for idx, house in enumerate(houses):\n",
    "    X_train,y_train,X_test,y_test = TrainTest(house,output='Quantile_Consumption')\n",
    "    \n",
    "    # Convert to one hot encodings\n",
    "    one_hot_y_train = to_categorical(y_train)\n",
    "    \n",
    "    # define model\n",
    "    inputs = Input(shape=(19,))\n",
    "\n",
    "    # a layer instance is callable on a tensor, and returns a tensor\n",
    "    x = Dense(16, activation='relu')(inputs)\n",
    "    x = Dense(32, activation='relu')(x)\n",
    "    predictions = Dense(3, activation='softmax')(x)\n",
    "    \n",
    "    # This creates a model that includes\n",
    "    # the Input layer and one Dense layer\n",
    "    model = Model(inputs=inputs, outputs=predictions)\n",
    "    model.compile(optimizer='adam',\n",
    "              loss='categorical_crossentropy',\n",
    "              metrics=['accuracy'])\n",
    "    \n",
    "    model.fit(X_train, one_hot_y_train,epochs=128,verbose=False)\n",
    "    \n",
    "    y_preds = np.argmax(model.predict(X_test),axis=1)\n",
    "    \n",
    "    # F1_score\n",
    "    F1_score = f1_score(y_test,y_preds,average='macro')\n",
    "\n",
    "    print(30*'-')\n",
    "    print(f'House {house} - id {idx+1}')\n",
    "    print(30*'-')\n",
    "    print(f'\\tF1 Score : {F1_score}')\n",
    "    print()"
   ]
  },
  {
   "cell_type": "code",
   "execution_count": null,
   "metadata": {},
   "outputs": [],
   "source": []
  }
 ],
 "metadata": {
  "kernelspec": {
   "display_name": "Python 3",
   "language": "python",
   "name": "python3"
  },
  "language_info": {
   "codemirror_mode": {
    "name": "ipython",
    "version": 3
   },
   "file_extension": ".py",
   "mimetype": "text/x-python",
   "name": "python",
   "nbconvert_exporter": "python",
   "pygments_lexer": "ipython3",
   "version": "3.7.3"
  }
 },
 "nbformat": 4,
 "nbformat_minor": 4
}
